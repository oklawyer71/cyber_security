{
  "nbformat": 4,
  "nbformat_minor": 0,
  "metadata": {
    "colab": {
      "provenance": [],
      "authorship_tag": "ABX9TyMY0pD9lnZ75rVoLrL+EP0x",
      "include_colab_link": true
    },
    "kernelspec": {
      "name": "python3",
      "display_name": "Python 3"
    },
    "language_info": {
      "name": "python"
    }
  },
  "cells": [
    {
      "cell_type": "markdown",
      "metadata": {
        "id": "view-in-github",
        "colab_type": "text"
      },
      "source": [
        "<a href=\"https://colab.research.google.com/github/oklawyer71/cyber_security/blob/main/Data_Exploration.ipynb\" target=\"_parent\"><img src=\"https://colab.research.google.com/assets/colab-badge.svg\" alt=\"Open In Colab\"/></a>"
      ]
    },
    {
      "cell_type": "code",
      "source": [
        "# Importing packages\n",
        "\n",
        "import pandas as pd\n",
        "from google.colab import files\n",
        "from google.colab import drive\n",
        "\n",
        "# Mount drive\n",
        "\n",
        "drive.mount('/content/drive')"
      ],
      "metadata": {
        "id": "RXFxxGrw3k2l"
      },
      "execution_count": null,
      "outputs": []
    },
    {
      "cell_type": "code",
      "source": [
        "# Reading in the Datasets - Segmented by Category\n",
        "\n",
        "df_benign = pd.read_csv(\"/content/drive/MyDrive/Colab Notebooks/features_domain_benign_csv.csv\")\n",
        "df_spam = pd.read_csv(\"/content/drive/MyDrive/Colab Notebooks/features-domain_Spam.csv\")\n",
        "df_phishing = pd.read_csv(\"/content/drive/MyDrive/Colab Notebooks/features-domain_phishing.csv\")\n",
        "df_malware = pd.read_csv(\"/content/drive/MyDrive/Colab Notebooks/features-domain_Malware.csv\")"
      ],
      "metadata": {
        "id": "xETIKLr13mQs"
      },
      "execution_count": null,
      "outputs": []
    },
    {
      "cell_type": "code",
      "source": [
        "# Adding a column to each of the\n",
        "\n",
        "df_subset_benign['category'] = 'benign'\n",
        "df_subset_spam['category'] = 'spam'\n",
        "df_subset_phishing['category'] = 'phishing'\n",
        "df_subset_malware['category'] = 'malware'\n"
      ],
      "metadata": {
        "id": "R-0UD70M3c4N"
      },
      "execution_count": null,
      "outputs": []
    },
    {
      "cell_type": "code",
      "source": [
        "# Combining all of the datasets together\n",
        "\n",
        "df_lst = [df_subset_benign, df_subset_spam, df_subset_phishing, df_subset_malware]\n",
        "df_comp = pd.concat(df_lst)"
      ],
      "metadata": {
        "id": "B6RHErql3fsp"
      },
      "execution_count": null,
      "outputs": []
    },
    {
      "cell_type": "code",
      "execution_count": null,
      "metadata": {
        "id": "varUnIeh2sAc"
      },
      "outputs": [],
      "source": [
        "# installing ydata-profiling package.  This tool will allow for better data visualization & exploration\n",
        "\n",
        "!pip install  ydata-profiling matplotlib"
      ]
    },
    {
      "cell_type": "code",
      "source": [
        "# Viewing the data through ydata-profiling\n",
        "\n",
        "from ydata_profiling import ProfileReport\n",
        "profile = ProfileReport(df_comp, title=\"Dataset Profile\")\n",
        "profile.to_notebook_iframe()"
      ],
      "metadata": {
        "id": "CBfqFwUa4Hax"
      },
      "execution_count": null,
      "outputs": []
    }
  ]
}